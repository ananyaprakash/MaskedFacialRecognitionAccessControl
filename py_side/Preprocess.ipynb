{
 "cells": [
  {
   "cell_type": "code",
   "execution_count": 4,
   "metadata": {
    "colab": {
     "base_uri": "https://localhost:8080/"
    },
    "id": "6qo01V54qruP",
    "outputId": "1d31ab4f-672b-46fe-91c1-0f4c49cf7c2b"
   },
   "outputs": [],
   "source": [
    "# from google.colab import drive\n",
    "# drive.mount('/content/drive')"
   ]
  },
  {
   "cell_type": "markdown",
   "metadata": {
    "id": "HZdMTIjbKWZO"
   },
   "source": [
    "# Face detect and cropping"
   ]
  },
  {
   "cell_type": "code",
   "execution_count": 5,
   "metadata": {
    "colab": {
     "base_uri": "https://localhost:8080/"
    },
    "id": "S5CNsSosy5k8",
    "outputId": "e6ef0507-e4f1-4507-8e4b-e64751e4087b"
   },
   "outputs": [
    {
     "name": "stdout",
     "output_type": "stream",
     "text": [
      "Requirement already satisfied: mtcnn in c:\\users\\tanya\\anaconda3\\envs\\env_dlib\\lib\\site-packages (0.1.0)\n",
      "Requirement already satisfied: opencv-python>=4.1.0 in c:\\users\\tanya\\anaconda3\\envs\\env_dlib\\lib\\site-packages (from mtcnn) (4.3.0.36)\n",
      "Requirement already satisfied: keras>=2.0.0 in c:\\users\\tanya\\anaconda3\\envs\\env_dlib\\lib\\site-packages (from mtcnn) (2.4.3)\n",
      "Requirement already satisfied: numpy>=1.11.3 in c:\\users\\tanya\\appdata\\roaming\\python\\python36\\site-packages (from opencv-python>=4.1.0->mtcnn) (1.18.1)\n",
      "Requirement already satisfied: pyyaml in c:\\users\\tanya\\anaconda3\\envs\\env_dlib\\lib\\site-packages (from keras>=2.0.0->mtcnn) (5.3.1)\n",
      "Requirement already satisfied: scipy>=0.14 in c:\\users\\tanya\\anaconda3\\envs\\env_dlib\\lib\\site-packages (from keras>=2.0.0->mtcnn) (1.5.3)\n",
      "Requirement already satisfied: h5py in c:\\users\\tanya\\anaconda3\\envs\\env_dlib\\lib\\site-packages (from keras>=2.0.0->mtcnn) (2.10.0)\n",
      "Requirement already satisfied: six in c:\\users\\tanya\\anaconda3\\envs\\env_dlib\\lib\\site-packages (from h5py->keras>=2.0.0->mtcnn) (1.15.0)\n"
     ]
    }
   ],
   "source": [
    "!pip install mtcnn"
   ]
  },
  {
   "cell_type": "code",
   "execution_count": 6,
   "metadata": {
    "colab": {
     "base_uri": "https://localhost:8080/"
    },
    "id": "bVSLDVBPzhtf",
    "outputId": "25a48091-dfcf-455e-ae88-69b6fc959557"
   },
   "outputs": [
    {
     "name": "stdout",
     "output_type": "stream",
     "text": [
      "0.1.0\n"
     ]
    }
   ],
   "source": [
    "# confirm mtcnn was installed correctly\n",
    "import mtcnn\n",
    "# print version\n",
    "print(mtcnn.__version__)"
   ]
  },
  {
   "cell_type": "code",
   "execution_count": 7,
   "metadata": {
    "id": "HsYJLegKH_wq"
   },
   "outputs": [],
   "source": [
    "# face detection for the 5 Celebrity Faces Dataset\n",
    "from os import listdir\n",
    "from os.path import isdir\n",
    "from PIL import Image\n",
    "from matplotlib import pyplot\n",
    "import numpy as np\n",
    "from numpy import savez_compressed\n",
    "from numpy import asarray\n",
    "from mtcnn.mtcnn import MTCNN\n",
    "import cv2\n",
    "import dlib"
   ]
  },
  {
   "cell_type": "code",
   "execution_count": 8,
   "metadata": {
    "id": "cjL0lAKiznar"
   },
   "outputs": [],
   "source": [
    "## extracting face under one folder alone\n",
    "#warnings.filterwarnings(\"ignore\") \n",
    "\n",
    "# extract a single face from a given photograph\n",
    "def extract_face(filename, required_size=(160, 160)):\n",
    "    \n",
    "    image = cv2.cvtColor(cv2.imread(filename), cv2.COLOR_BGR2RGB)\n",
    "    #using MTCNN for detecting features\n",
    "    detector = MTCNN()\n",
    "    results = (detector.detect_faces(image))\n",
    "    print(results)\n",
    "\n",
    "    if not results:\n",
    "      \n",
    "          print(\"no result\")\n",
    "          return None\n",
    "    else: \n",
    "\n",
    "        bounding_box = results[0]['box']\n",
    "        keypoints = results[0]['keypoints']\n",
    "        r = dlib.rectangle(bounding_box[0], bounding_box[1], bounding_box[0]+bounding_box[2], bounding_box[1] + bounding_box[3])     \n",
    "\n",
    "        crop_img = image[bounding_box[1]:bounding_box[1]+ bounding_box[3], bounding_box[0]:bounding_box[0]+bounding_box[2]]\n",
    "        crop_img1 = cv2.cvtColor(crop_img, cv2.COLOR_BGR2RGB)\n",
    "        scale_percent = 220 # percent of original size\n",
    "        width = int(crop_img1.shape[1] * scale_percent / 100)\n",
    "        height = int(crop_img1.shape[0] * scale_percent / 100)\n",
    "        dim = (width, height)\n",
    "        # resize image\n",
    "        resized = cv2.resize(crop_img1, dim, interpolation = cv2.INTER_AREA)\n",
    "        reimage = cv2.resize(resized, (160,160), interpolation = cv2.INTER_AREA)\n",
    "        face_array = asarray(reimage)      \n",
    "        return face_array\n",
    "\n",
    "\n"
   ]
  },
  {
   "cell_type": "code",
   "execution_count": 9,
   "metadata": {
    "id": "yjcmUeq2j4f7"
   },
   "outputs": [],
   "source": [
    "# #FOR DEBUG ONLY\n",
    "# # specify folder to plot\n",
    "# folder = '/content/drive/MyDrive/FYP DY2/5 celebrities dataset/train_masked/Kishore_Kandasamy/'\n",
    "# i = 1\n",
    "\n",
    "# for filename in listdir(folder):\n",
    "#     path = folder + filename\n",
    "#     print(path)\n",
    "#     face = extract_face(path)\n",
    "  \n",
    "#     if face is not None:\n",
    "#       print(i, face.shape)\n",
    "#       pyplot.subplot(2, 10, i)\n",
    "#       pyplot.axis('off')\n",
    "#       #face1 = cv2.cvtColor(face, cv2.COLOR_BGR2RGB)\n",
    "#       pyplot.imshow(face)\n",
    "#     i += 1"
   ]
  },
  {
   "cell_type": "markdown",
   "metadata": {
    "id": "HL0gBLg0j0xS"
   },
   "source": [
    "# New section"
   ]
  },
  {
   "cell_type": "code",
   "execution_count": 10,
   "metadata": {
    "colab": {
     "base_uri": "https://localhost:8080/"
    },
    "id": "9VTskW9QDmFF",
    "outputId": "d0056131-c433-4f5a-db7e-f610f80f1d3b"
   },
   "outputs": [
    {
     "name": "stdout",
     "output_type": "stream",
     "text": [
      "[{'box': [868, 930, 1824, 2043], 'confidence': 0.9996775388717651, 'keypoints': {'left_eye': (1592, 1699), 'right_eye': (2248, 1675), 'nose': (1979, 2145), 'mouth_left': (1611, 2372), 'mouth_right': (2196, 2386)}}]\n",
      "WARNING:tensorflow:5 out of the last 132 calls to <function Model.make_predict_function.<locals>.predict_function at 0x000001DF05553F28> triggered tf.function retracing. Tracing is expensive and the excessive number of tracings could be due to (1) creating @tf.function repeatedly in a loop, (2) passing tensors with different shapes, (3) passing Python objects instead of tensors. For (1), please define your @tf.function outside of the loop. For (2), @tf.function has experimental_relax_shapes=True option that relaxes argument shapes that can avoid unnecessary retracing. For (3), please refer to https://www.tensorflow.org/tutorials/customization/performance#python_or_tensor_args and https://www.tensorflow.org/api_docs/python/tf/function for  more details.\n",
      "[{'box': [908, 1545, 1614, 1813], 'confidence': 0.9985870122909546, 'keypoints': {'left_eye': (1527, 2147), 'right_eye': (2149, 2126), 'nose': (1869, 2536), 'mouth_left': (1521, 2772), 'mouth_right': (2067, 2792)}}]\n",
      "WARNING:tensorflow:5 out of the last 91 calls to <function Model.make_predict_function.<locals>.predict_function at 0x000001DF05528268> triggered tf.function retracing. Tracing is expensive and the excessive number of tracings could be due to (1) creating @tf.function repeatedly in a loop, (2) passing tensors with different shapes, (3) passing Python objects instead of tensors. For (1), please define your @tf.function outside of the loop. For (2), @tf.function has experimental_relax_shapes=True option that relaxes argument shapes that can avoid unnecessary retracing. For (3), please refer to https://www.tensorflow.org/tutorials/customization/performance#python_or_tensor_args and https://www.tensorflow.org/api_docs/python/tf/function for  more details.\n",
      "[{'box': [889, 873, 1818, 2165], 'confidence': 0.9988358616828918, 'keypoints': {'left_eye': (1380, 1703), 'right_eye': (2217, 1660), 'nose': (1800, 2093), 'mouth_left': (1476, 2541), 'mouth_right': (2080, 2522)}}, {'box': [91, 3454, 217, 280], 'confidence': 0.8314775824546814, 'keypoints': {'left_eye': (148, 3570), 'right_eye': (198, 3556), 'nose': (148, 3592), 'mouth_left': (139, 3655), 'mouth_right': (172, 3645)}}]\n",
      ">loaded 3 examples for class: Kishore_Kandasamy\n",
      "WARNING:tensorflow:5 out of the last 78 calls to <function Model.make_predict_function.<locals>.predict_function at 0x000001DF057B2EA0> triggered tf.function retracing. Tracing is expensive and the excessive number of tracings could be due to (1) creating @tf.function repeatedly in a loop, (2) passing tensors with different shapes, (3) passing Python objects instead of tensors. For (1), please define your @tf.function outside of the loop. For (2), @tf.function has experimental_relax_shapes=True option that relaxes argument shapes that can avoid unnecessary retracing. For (3), please refer to https://www.tensorflow.org/tutorials/customization/performance#python_or_tensor_args and https://www.tensorflow.org/api_docs/python/tf/function for  more details.\n",
      "[{'box': [468, 563, 1232, 1624], 'confidence': 0.9989217519760132, 'keypoints': {'left_eye': (827, 1262), 'right_eye': (1397, 1280), 'nose': (1102, 1660), 'mouth_left': (840, 1863), 'mouth_right': (1318, 1899)}}]\n",
      "WARNING:tensorflow:5 out of the last 26 calls to <function Model.make_predict_function.<locals>.predict_function at 0x000001DF05284F28> triggered tf.function retracing. Tracing is expensive and the excessive number of tracings could be due to (1) creating @tf.function repeatedly in a loop, (2) passing tensors with different shapes, (3) passing Python objects instead of tensors. For (1), please define your @tf.function outside of the loop. For (2), @tf.function has experimental_relax_shapes=True option that relaxes argument shapes that can avoid unnecessary retracing. For (3), please refer to https://www.tensorflow.org/tutorials/customization/performance#python_or_tensor_args and https://www.tensorflow.org/api_docs/python/tf/function for  more details.\n",
      "[{'box': [527, 306, 1323, 1769], 'confidence': 0.9978926777839661, 'keypoints': {'left_eye': (934, 1094), 'right_eye': (1518, 1083), 'nose': (1232, 1502), 'mouth_left': (981, 1726), 'mouth_right': (1462, 1707)}}]\n",
      "WARNING:tensorflow:5 out of the last 33 calls to <function Model.make_predict_function.<locals>.predict_function at 0x000001DF0423B950> triggered tf.function retracing. Tracing is expensive and the excessive number of tracings could be due to (1) creating @tf.function repeatedly in a loop, (2) passing tensors with different shapes, (3) passing Python objects instead of tensors. For (1), please define your @tf.function outside of the loop. For (2), @tf.function has experimental_relax_shapes=True option that relaxes argument shapes that can avoid unnecessary retracing. For (3), please refer to https://www.tensorflow.org/tutorials/customization/performance#python_or_tensor_args and https://www.tensorflow.org/api_docs/python/tf/function for  more details.\n",
      "[{'box': [387, 429, 1594, 2063], 'confidence': 0.9991500377655029, 'keypoints': {'left_eye': (850, 1301), 'right_eye': (1551, 1315), 'nose': (1178, 1745), 'mouth_left': (856, 2004), 'mouth_right': (1456, 2035)}}]\n",
      "WARNING:tensorflow:5 out of the last 22 calls to <function Model.make_predict_function.<locals>.predict_function at 0x000001DF05532C80> triggered tf.function retracing. Tracing is expensive and the excessive number of tracings could be due to (1) creating @tf.function repeatedly in a loop, (2) passing tensors with different shapes, (3) passing Python objects instead of tensors. For (1), please define your @tf.function outside of the loop. For (2), @tf.function has experimental_relax_shapes=True option that relaxes argument shapes that can avoid unnecessary retracing. For (3), please refer to https://www.tensorflow.org/tutorials/customization/performance#python_or_tensor_args and https://www.tensorflow.org/api_docs/python/tf/function for  more details.\n",
      "[{'box': [508, 348, 1277, 1655], 'confidence': 0.9988419413566589, 'keypoints': {'left_eye': (926, 1040), 'right_eye': (1482, 1051), 'nose': (1201, 1438), 'mouth_left': (934, 1658), 'mouth_right': (1386, 1662)}}]\n",
      ">loaded 4 examples for class: Meghna_Gupta\n",
      "WARNING:tensorflow:5 out of the last 20 calls to <function Model.make_predict_function.<locals>.predict_function at 0x000001DF054E0158> triggered tf.function retracing. Tracing is expensive and the excessive number of tracings could be due to (1) creating @tf.function repeatedly in a loop, (2) passing tensors with different shapes, (3) passing Python objects instead of tensors. For (1), please define your @tf.function outside of the loop. For (2), @tf.function has experimental_relax_shapes=True option that relaxes argument shapes that can avoid unnecessary retracing. For (3), please refer to https://www.tensorflow.org/tutorials/customization/performance#python_or_tensor_args and https://www.tensorflow.org/api_docs/python/tf/function for  more details.\n",
      "[{'box': [299, 407, 430, 514], 'confidence': 0.9999498128890991, 'keypoints': {'left_eye': (416, 618), 'right_eye': (606, 604), 'nose': (512, 735), 'mouth_left': (435, 811), 'mouth_right': (593, 801)}}]\n",
      "WARNING:tensorflow:5 out of the last 16 calls to <function Model.make_predict_function.<locals>.predict_function at 0x000001DF0295FD08> triggered tf.function retracing. Tracing is expensive and the excessive number of tracings could be due to (1) creating @tf.function repeatedly in a loop, (2) passing tensors with different shapes, (3) passing Python objects instead of tensors. For (1), please define your @tf.function outside of the loop. For (2), @tf.function has experimental_relax_shapes=True option that relaxes argument shapes that can avoid unnecessary retracing. For (3), please refer to https://www.tensorflow.org/tutorials/customization/performance#python_or_tensor_args and https://www.tensorflow.org/api_docs/python/tf/function for  more details.\n",
      "[{'box': [334, 458, 414, 483], 'confidence': 0.9999935626983643, 'keypoints': {'left_eye': (451, 648), 'right_eye': (635, 626), 'nose': (549, 750), 'mouth_left': (482, 828), 'mouth_right': (641, 812)}}]\n"
     ]
    },
    {
     "name": "stdout",
     "output_type": "stream",
     "text": [
      "WARNING:tensorflow:5 out of the last 20 calls to <function Model.make_predict_function.<locals>.predict_function at 0x000001DF00DACD90> triggered tf.function retracing. Tracing is expensive and the excessive number of tracings could be due to (1) creating @tf.function repeatedly in a loop, (2) passing tensors with different shapes, (3) passing Python objects instead of tensors. For (1), please define your @tf.function outside of the loop. For (2), @tf.function has experimental_relax_shapes=True option that relaxes argument shapes that can avoid unnecessary retracing. For (3), please refer to https://www.tensorflow.org/tutorials/customization/performance#python_or_tensor_args and https://www.tensorflow.org/api_docs/python/tf/function for  more details.\n",
      "WARNING:tensorflow:5 out of the last 11 calls to <function Model.make_predict_function.<locals>.predict_function at 0x000001DF00DACD90> triggered tf.function retracing. Tracing is expensive and the excessive number of tracings could be due to (1) creating @tf.function repeatedly in a loop, (2) passing tensors with different shapes, (3) passing Python objects instead of tensors. For (1), please define your @tf.function outside of the loop. For (2), @tf.function has experimental_relax_shapes=True option that relaxes argument shapes that can avoid unnecessary retracing. For (3), please refer to https://www.tensorflow.org/tutorials/customization/performance#python_or_tensor_args and https://www.tensorflow.org/api_docs/python/tf/function for  more details.\n",
      "[{'box': [460, 388, 379, 435], 'confidence': 0.9999959468841553, 'keypoints': {'left_eye': (556, 538), 'right_eye': (734, 527), 'nose': (631, 616), 'mouth_left': (572, 715), 'mouth_right': (711, 708)}}]\n",
      "WARNING:tensorflow:5 out of the last 13 calls to <function Model.make_predict_function.<locals>.predict_function at 0x000001DF00B4D2F0> triggered tf.function retracing. Tracing is expensive and the excessive number of tracings could be due to (1) creating @tf.function repeatedly in a loop, (2) passing tensors with different shapes, (3) passing Python objects instead of tensors. For (1), please define your @tf.function outside of the loop. For (2), @tf.function has experimental_relax_shapes=True option that relaxes argument shapes that can avoid unnecessary retracing. For (3), please refer to https://www.tensorflow.org/tutorials/customization/performance#python_or_tensor_args and https://www.tensorflow.org/api_docs/python/tf/function for  more details.\n",
      "[{'box': [371, 290, 445, 519], 'confidence': 0.9999115467071533, 'keypoints': {'left_eye': (479, 494), 'right_eye': (667, 467), 'nose': (564, 603), 'mouth_left': (512, 691), 'mouth_right': (666, 669)}}]\n",
      ">loaded 4 examples for class: Pranjal_Mathur\n",
      "WARNING:tensorflow:5 out of the last 13 calls to <function Model.make_predict_function.<locals>.predict_function at 0x000001DF054E0840> triggered tf.function retracing. Tracing is expensive and the excessive number of tracings could be due to (1) creating @tf.function repeatedly in a loop, (2) passing tensors with different shapes, (3) passing Python objects instead of tensors. For (1), please define your @tf.function outside of the loop. For (2), @tf.function has experimental_relax_shapes=True option that relaxes argument shapes that can avoid unnecessary retracing. For (3), please refer to https://www.tensorflow.org/tutorials/customization/performance#python_or_tensor_args and https://www.tensorflow.org/api_docs/python/tf/function for  more details.\n",
      "[{'box': [1197, 1349, 1263, 1621], 'confidence': 0.999852180480957, 'keypoints': {'left_eye': (1521, 1962), 'right_eye': (2083, 1979), 'nose': (1781, 2328), 'mouth_left': (1573, 2611), 'mouth_right': (2040, 2628)}}]\n",
      "WARNING:tensorflow:5 out of the last 107 calls to <function Model.make_predict_function.<locals>.predict_function at 0x000001DF05A48E18> triggered tf.function retracing. Tracing is expensive and the excessive number of tracings could be due to (1) creating @tf.function repeatedly in a loop, (2) passing tensors with different shapes, (3) passing Python objects instead of tensors. For (1), please define your @tf.function outside of the loop. For (2), @tf.function has experimental_relax_shapes=True option that relaxes argument shapes that can avoid unnecessary retracing. For (3), please refer to https://www.tensorflow.org/tutorials/customization/performance#python_or_tensor_args and https://www.tensorflow.org/api_docs/python/tf/function for  more details.\n",
      "[{'box': [1138, 1425, 1059, 1250], 'confidence': 0.9993190765380859, 'keypoints': {'left_eye': (1472, 1888), 'right_eye': (1883, 1903), 'nose': (1660, 2090), 'mouth_left': (1480, 2260), 'mouth_right': (1866, 2266)}}, {'box': [2838, 4002, 27, 32], 'confidence': 0.8584333658218384, 'keypoints': {'left_eye': (2850, 4014), 'right_eye': (2861, 4015), 'nose': (2857, 4023), 'mouth_left': (2848, 4027), 'mouth_right': (2858, 4028)}}]\n",
      "WARNING:tensorflow:5 out of the last 169 calls to <function Model.make_predict_function.<locals>.predict_function at 0x000001DF00639E18> triggered tf.function retracing. Tracing is expensive and the excessive number of tracings could be due to (1) creating @tf.function repeatedly in a loop, (2) passing tensors with different shapes, (3) passing Python objects instead of tensors. For (1), please define your @tf.function outside of the loop. For (2), @tf.function has experimental_relax_shapes=True option that relaxes argument shapes that can avoid unnecessary retracing. For (3), please refer to https://www.tensorflow.org/tutorials/customization/performance#python_or_tensor_args and https://www.tensorflow.org/api_docs/python/tf/function for  more details.\n",
      "[{'box': [1105, 1519, 1012, 1291], 'confidence': 0.9984435439109802, 'keypoints': {'left_eye': (1417, 2078), 'right_eye': (1870, 1995), 'nose': (1717, 2299), 'mouth_left': (1521, 2573), 'mouth_right': (1872, 2513)}}]\n",
      "WARNING:tensorflow:5 out of the last 107 calls to <function Model.make_predict_function.<locals>.predict_function at 0x000001DF0423B730> triggered tf.function retracing. Tracing is expensive and the excessive number of tracings could be due to (1) creating @tf.function repeatedly in a loop, (2) passing tensors with different shapes, (3) passing Python objects instead of tensors. For (1), please define your @tf.function outside of the loop. For (2), @tf.function has experimental_relax_shapes=True option that relaxes argument shapes that can avoid unnecessary retracing. For (3), please refer to https://www.tensorflow.org/tutorials/customization/performance#python_or_tensor_args and https://www.tensorflow.org/api_docs/python/tf/function for  more details.\n",
      "[{'box': [1124, 1551, 1138, 1414], 'confidence': 0.9995680451393127, 'keypoints': {'left_eye': (1352, 2139), 'right_eye': (1846, 2054), 'nose': (1609, 2412), 'mouth_left': (1466, 2682), 'mouth_right': (1864, 2621)}}]\n",
      ">loaded 4 examples for class: Sanjana_Kurkimat\n",
      "WARNING:tensorflow:5 out of the last 125 calls to <function Model.make_predict_function.<locals>.predict_function at 0x000001DF00DE9620> triggered tf.function retracing. Tracing is expensive and the excessive number of tracings could be due to (1) creating @tf.function repeatedly in a loop, (2) passing tensors with different shapes, (3) passing Python objects instead of tensors. For (1), please define your @tf.function outside of the loop. For (2), @tf.function has experimental_relax_shapes=True option that relaxes argument shapes that can avoid unnecessary retracing. For (3), please refer to https://www.tensorflow.org/tutorials/customization/performance#python_or_tensor_args and https://www.tensorflow.org/api_docs/python/tf/function for  more details.\n",
      "[{'box': [928, 1034, 2017, 2279], 'confidence': 0.9987701773643494, 'keypoints': {'left_eye': (1581, 1950), 'right_eye': (2461, 1858), 'nose': (2095, 2429), 'mouth_left': (1715, 2780), 'mouth_right': (2375, 2727)}}]\n",
      ">loaded 1 examples for class: Kishore_Kandasamy\n",
      "WARNING:tensorflow:5 out of the last 75 calls to <function Model.make_predict_function.<locals>.predict_function at 0x000001DF023EA950> triggered tf.function retracing. Tracing is expensive and the excessive number of tracings could be due to (1) creating @tf.function repeatedly in a loop, (2) passing tensors with different shapes, (3) passing Python objects instead of tensors. For (1), please define your @tf.function outside of the loop. For (2), @tf.function has experimental_relax_shapes=True option that relaxes argument shapes that can avoid unnecessary retracing. For (3), please refer to https://www.tensorflow.org/tutorials/customization/performance#python_or_tensor_args and https://www.tensorflow.org/api_docs/python/tf/function for  more details.\n"
     ]
    },
    {
     "name": "stdout",
     "output_type": "stream",
     "text": [
      "[{'box': [560, 375, 1248, 1680], 'confidence': 0.9974479675292969, 'keypoints': {'left_eye': (937, 1108), 'right_eye': (1488, 1114), 'nose': (1217, 1501), 'mouth_left': (967, 1707), 'mouth_right': (1427, 1707)}}]\n",
      ">loaded 1 examples for class: Meghna_Gupta\n",
      "WARNING:tensorflow:5 out of the last 28 calls to <function Model.make_predict_function.<locals>.predict_function at 0x000001DF023C5950> triggered tf.function retracing. Tracing is expensive and the excessive number of tracings could be due to (1) creating @tf.function repeatedly in a loop, (2) passing tensors with different shapes, (3) passing Python objects instead of tensors. For (1), please define your @tf.function outside of the loop. For (2), @tf.function has experimental_relax_shapes=True option that relaxes argument shapes that can avoid unnecessary retracing. For (3), please refer to https://www.tensorflow.org/tutorials/customization/performance#python_or_tensor_args and https://www.tensorflow.org/api_docs/python/tf/function for  more details.\n",
      "[{'box': [429, 326, 455, 515], 'confidence': 0.9974459409713745, 'keypoints': {'left_eye': (553, 517), 'right_eye': (742, 508), 'nose': (635, 631), 'mouth_left': (561, 713), 'mouth_right': (721, 710)}}]\n",
      ">loaded 1 examples for class: Pranjal_Mathur\n",
      "WARNING:tensorflow:5 out of the last 13 calls to <function Model.make_predict_function.<locals>.predict_function at 0x000001DF05711D90> triggered tf.function retracing. Tracing is expensive and the excessive number of tracings could be due to (1) creating @tf.function repeatedly in a loop, (2) passing tensors with different shapes, (3) passing Python objects instead of tensors. For (1), please define your @tf.function outside of the loop. For (2), @tf.function has experimental_relax_shapes=True option that relaxes argument shapes that can avoid unnecessary retracing. For (3), please refer to https://www.tensorflow.org/tutorials/customization/performance#python_or_tensor_args and https://www.tensorflow.org/api_docs/python/tf/function for  more details.\n",
      "[{'box': [1191, 1626, 1140, 1408], 'confidence': 0.9995244741439819, 'keypoints': {'left_eye': (1390, 2195), 'right_eye': (1872, 2152), 'nose': (1583, 2502), 'mouth_left': (1463, 2733), 'mouth_right': (1863, 2706)}}]\n",
      ">loaded 1 examples for class: Sanjana_Kurkimat\n",
      "Loaded:  (15, 160, 160, 3) (15,) (4, 160, 160, 3) (4,)\n",
      "Loaded:  (15, 160, 160, 3) (15,) (4, 160, 160, 3) (4,)\n"
     ]
    }
   ],
   "source": [
    "# load images and extract faces for all images in a directory\n",
    "def load_faces(directory):\n",
    "\tfaces = list()\n",
    "\t# enumerate files\n",
    "\tfor filename in listdir(directory):\n",
    "\t\t# path\n",
    "\t\tpath = directory + filename\n",
    "\t\t# get face\n",
    "\t\tface = extract_face(path)\n",
    "\t\t# store\n",
    "\t\tif face is not None:\n",
    "\t\t\tfaces.append(face)\n",
    "\treturn faces\n",
    " \n",
    "# load a dataset that contains one subdir for each class that in turn contains images\n",
    "def load_dataset(directory):\n",
    "\tX, y = list(), list()\n",
    "\t# enumerate folders, on per class\n",
    "\tfor subdir in listdir(directory):\n",
    "\t\t# path\n",
    "\t\tpath = directory + subdir + '/'\n",
    "\t\t# skip any files that might be in the dir\n",
    "\t\tif not isdir(path):\n",
    "\t\t\tcontinue\n",
    "\t\t# load all faces in the subdirectory\n",
    "\t\tfaces = load_faces(path)\n",
    "\t\t# create labels\n",
    "\t\tlabels = [subdir for _ in range(len(faces))]\n",
    "\t\t# summarize progress\n",
    "\t\tprint('>loaded %d examples for class: %s' % (len(faces), subdir))\n",
    "\t\t# store\n",
    "\t\tX.extend(faces)\n",
    "\t\ty.extend(labels)\n",
    "\treturn asarray(X), asarray(y)\n",
    " \n",
    "def load_save_dataset():\n",
    "  # load MASKED train dataset\n",
    "    trainX, trainy = load_dataset('C:/Users/Tanya/Desktop/FYP/FYP - Full Stack/5 celebrities dataset/train_masked/')\n",
    "  # print(trainX.shape, trainy.shape)\n",
    "  # load test dataset\n",
    "    testX, testy = load_dataset('C:/Users/Tanya/Desktop/FYP/FYP - Full Stack/5 celebrities dataset/val_masked/')\n",
    "  # save arrays to one file in compressed format\n",
    "  # print(trainX,trainy)\n",
    "    print('Loaded: ', trainX.shape, trainy.shape, testX.shape, testy.shape)\n",
    "    savez_compressed('C:/Users/Tanya/Desktop/FYP/FYP - Full Stack/5-celebrity-faces-dataset_masked.npz', trainX, trainy, testX, testy)\n",
    "\n",
    "    data = np.load('C:/Users/Tanya/Desktop/FYP/FYP - Full Stack/5-celebrity-faces-dataset_masked.npz')\n",
    "\n",
    "    trainX, trainy, testX, testy = data['arr_0'], data['arr_1'], data['arr_2'], data['arr_3']\n",
    "    print('Loaded: ', trainX.shape, trainy.shape, testX.shape, testy.shape)\n",
    "\n",
    "load_save_dataset()\n"
   ]
  }
 ],
 "metadata": {
  "colab": {
   "collapsed_sections": [],
   "name": "Preprocess.ipynb",
   "provenance": []
  },
  "kernelspec": {
   "display_name": "Python 3",
   "language": "python",
   "name": "python3"
  },
  "language_info": {
   "codemirror_mode": {
    "name": "ipython",
    "version": 3
   },
   "file_extension": ".py",
   "mimetype": "text/x-python",
   "name": "python",
   "nbconvert_exporter": "python",
   "pygments_lexer": "ipython3",
   "version": "3.6.10"
  }
 },
 "nbformat": 4,
 "nbformat_minor": 1
}
