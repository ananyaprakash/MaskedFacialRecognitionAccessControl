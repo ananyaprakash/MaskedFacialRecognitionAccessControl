{
 "cells": [
  {
   "cell_type": "code",
   "execution_count": 1,
   "metadata": {
    "colab": {
     "base_uri": "https://localhost:8080/"
    },
    "id": "6qo01V54qruP",
    "outputId": "60cd85c9-6d12-4ddb-ba9e-6f3a0a92a6fe"
   },
   "outputs": [],
   "source": [
    "# from google.colab import drive\n",
    "# drive.mount('/content/drive')"
   ]
  },
  {
   "cell_type": "markdown",
   "metadata": {
    "id": "HZdMTIjbKWZO"
   },
   "source": [
    "# Face detect and cropping"
   ]
  },
  {
   "cell_type": "code",
   "execution_count": 2,
   "metadata": {
    "colab": {
     "base_uri": "https://localhost:8080/"
    },
    "id": "S5CNsSosy5k8",
    "outputId": "ab66b1de-84da-4f62-88ef-d0f08f0c15f7"
   },
   "outputs": [
    {
     "name": "stdout",
     "output_type": "stream",
     "text": [
      "Requirement already satisfied: mtcnn in c:\\users\\tanya\\anaconda3\\envs\\env_dlib\\lib\\site-packages (0.1.0)\n",
      "Requirement already satisfied: opencv-python>=4.1.0 in c:\\users\\tanya\\anaconda3\\envs\\env_dlib\\lib\\site-packages (from mtcnn) (4.3.0.36)\n",
      "Requirement already satisfied: keras>=2.0.0 in c:\\users\\tanya\\anaconda3\\envs\\env_dlib\\lib\\site-packages (from mtcnn) (2.4.3)\n",
      "Requirement already satisfied: numpy>=1.11.3 in c:\\users\\tanya\\appdata\\roaming\\python\\python36\\site-packages (from opencv-python>=4.1.0->mtcnn) (1.18.1)\n",
      "Requirement already satisfied: pyyaml in c:\\users\\tanya\\anaconda3\\envs\\env_dlib\\lib\\site-packages (from keras>=2.0.0->mtcnn) (5.3.1)\n",
      "Requirement already satisfied: h5py in c:\\users\\tanya\\anaconda3\\envs\\env_dlib\\lib\\site-packages (from keras>=2.0.0->mtcnn) (2.10.0)\n",
      "Requirement already satisfied: scipy>=0.14 in c:\\users\\tanya\\anaconda3\\envs\\env_dlib\\lib\\site-packages (from keras>=2.0.0->mtcnn) (1.5.3)\n",
      "Requirement already satisfied: six in c:\\users\\tanya\\anaconda3\\envs\\env_dlib\\lib\\site-packages (from h5py->keras>=2.0.0->mtcnn) (1.15.0)\n"
     ]
    }
   ],
   "source": [
    "!pip install mtcnn"
   ]
  },
  {
   "cell_type": "code",
   "execution_count": 3,
   "metadata": {
    "colab": {
     "base_uri": "https://localhost:8080/"
    },
    "id": "bVSLDVBPzhtf",
    "outputId": "5a9c8511-d93a-4d4e-81a0-d0036958c0cd"
   },
   "outputs": [
    {
     "name": "stdout",
     "output_type": "stream",
     "text": [
      "0.1.0\n"
     ]
    }
   ],
   "source": [
    "# confirm mtcnn was installed correctly\n",
    "import mtcnn\n",
    "# print version\n",
    "print(mtcnn.__version__)"
   ]
  },
  {
   "cell_type": "code",
   "execution_count": 4,
   "metadata": {
    "id": "HsYJLegKH_wq"
   },
   "outputs": [],
   "source": [
    "# face detection for the 5 Celebrity Faces Dataset\n",
    "from os import listdir\n",
    "from os.path import isdir\n",
    "from PIL import Image\n",
    "from matplotlib import pyplot\n",
    "import numpy as np\n",
    "from numpy import savez_compressed\n",
    "from numpy import asarray\n",
    "from mtcnn.mtcnn import MTCNN\n",
    "import cv2\n",
    "import dlib"
   ]
  },
  {
   "cell_type": "code",
   "execution_count": 5,
   "metadata": {
    "id": "cjL0lAKiznar"
   },
   "outputs": [],
   "source": [
    "## extracting face under one folder alone\n",
    "#warnings.filterwarnings(\"ignore\") \n",
    "# extract a single face from a given photograph\n",
    "def extract_face(filename, required_size=(160, 160)):\n",
    "    \n",
    "    image = cv2.cvtColor(cv2.imread(filename), cv2.COLOR_BGR2RGB)\n",
    "    #using MTCNN for detecting features\n",
    "    detector = MTCNN()\n",
    "    results = (detector.detect_faces(image))\n",
    "    print(results)\n",
    "\n",
    "    if not results:\n",
    "      \n",
    "          print(\"no result\")\n",
    "          return None\n",
    "    else: \n",
    "\n",
    "        bounding_box = results[0]['box']\n",
    "        keypoints = results[0]['keypoints']\n",
    "        r = dlib.rectangle(bounding_box[0], bounding_box[1], bounding_box[0]+bounding_box[2], bounding_box[1] + bounding_box[3])     \n",
    "\n",
    "        crop_img = image[bounding_box[1]:bounding_box[1]+ bounding_box[3], bounding_box[0]:bounding_box[0]+bounding_box[2]]\n",
    "        crop_img1 = cv2.cvtColor(crop_img, cv2.COLOR_BGR2RGB)\n",
    "        scale_percent = 220 # percent of original size\n",
    "        width = int(crop_img1.shape[1] * scale_percent / 100)\n",
    "        height = int(crop_img1.shape[0] * scale_percent / 100)\n",
    "        dim = (width, height)\n",
    "        # resize image\n",
    "        resized = cv2.resize(crop_img1, dim, interpolation = cv2.INTER_AREA)\n",
    "        reimage = cv2.resize(resized, (160,160), interpolation = cv2.INTER_AREA)\n",
    "        face_array = asarray(reimage)      \n",
    "        return face_array\n",
    " \n"
   ]
  },
  {
   "cell_type": "code",
   "execution_count": 6,
   "metadata": {
    "id": "yjcmUeq2j4f7"
   },
   "outputs": [],
   "source": [
    "# specify folder to plot\n",
    "# folder = '/content/drive/MyDrive/FYP DY2/New User/train_masked/Minnie_TK/'\n",
    "# i = 1\n",
    "\n",
    "# for filename in listdir(folder):\n",
    "#     path = folder + filename\n",
    "#     print(path)\n",
    "#     face = extract_face(path)\n",
    "  \n",
    "#     if face is not None:\n",
    "#       print(i, face.shape)\n",
    "#       pyplot.subplot(2, 10, i)\n",
    "#       pyplot.axis('off')\n",
    "#       #face1 = cv2.cvtColor(face, cv2.COLOR_BGR2RGB)\n",
    "#       pyplot.imshow(face)\n",
    "#     i += 1\n",
    "  "
   ]
  },
  {
   "cell_type": "markdown",
   "metadata": {
    "id": "HL0gBLg0j0xS"
   },
   "source": [
    "# New section"
   ]
  },
  {
   "cell_type": "code",
   "execution_count": 7,
   "metadata": {
    "colab": {
     "base_uri": "https://localhost:8080/"
    },
    "id": "9VTskW9QDmFF",
    "outputId": "f1f13c8a-e98f-4ae6-bab4-0a9a96ec917e"
   },
   "outputs": [
    {
     "name": "stdout",
     "output_type": "stream",
     "text": [
      "[{'box': [166, 162, 587, 763], 'confidence': 0.9999738931655884, 'keypoints': {'left_eye': (337, 513), 'right_eye': (621, 525), 'nose': (474, 710), 'mouth_left': (347, 787), 'mouth_right': (567, 793)}}]\n",
      "WARNING:tensorflow:5 out of the last 16 calls to <function Model.make_predict_function.<locals>.predict_function at 0x00000294AB5562F0> triggered tf.function retracing. Tracing is expensive and the excessive number of tracings could be due to (1) creating @tf.function repeatedly in a loop, (2) passing tensors with different shapes, (3) passing Python objects instead of tensors. For (1), please define your @tf.function outside of the loop. For (2), @tf.function has experimental_relax_shapes=True option that relaxes argument shapes that can avoid unnecessary retracing. For (3), please refer to https://www.tensorflow.org/tutorials/customization/performance#python_or_tensor_args and https://www.tensorflow.org/api_docs/python/tf/function for  more details.\n",
      "WARNING:tensorflow:6 out of the last 17 calls to <function Model.make_predict_function.<locals>.predict_function at 0x00000294AB5562F0> triggered tf.function retracing. Tracing is expensive and the excessive number of tracings could be due to (1) creating @tf.function repeatedly in a loop, (2) passing tensors with different shapes, (3) passing Python objects instead of tensors. For (1), please define your @tf.function outside of the loop. For (2), @tf.function has experimental_relax_shapes=True option that relaxes argument shapes that can avoid unnecessary retracing. For (3), please refer to https://www.tensorflow.org/tutorials/customization/performance#python_or_tensor_args and https://www.tensorflow.org/api_docs/python/tf/function for  more details.\n",
      "[{'box': [150, 32, 643, 808], 'confidence': 0.9999699592590332, 'keypoints': {'left_eye': (318, 393), 'right_eye': (620, 385), 'nose': (472, 559), 'mouth_left': (365, 691), 'mouth_right': (595, 675)}}]\n",
      "WARNING:tensorflow:5 out of the last 16 calls to <function Model.make_predict_function.<locals>.predict_function at 0x00000294AB5811E0> triggered tf.function retracing. Tracing is expensive and the excessive number of tracings could be due to (1) creating @tf.function repeatedly in a loop, (2) passing tensors with different shapes, (3) passing Python objects instead of tensors. For (1), please define your @tf.function outside of the loop. For (2), @tf.function has experimental_relax_shapes=True option that relaxes argument shapes that can avoid unnecessary retracing. For (3), please refer to https://www.tensorflow.org/tutorials/customization/performance#python_or_tensor_args and https://www.tensorflow.org/api_docs/python/tf/function for  more details.\n",
      "WARNING:tensorflow:6 out of the last 17 calls to <function Model.make_predict_function.<locals>.predict_function at 0x00000294AB5811E0> triggered tf.function retracing. Tracing is expensive and the excessive number of tracings could be due to (1) creating @tf.function repeatedly in a loop, (2) passing tensors with different shapes, (3) passing Python objects instead of tensors. For (1), please define your @tf.function outside of the loop. For (2), @tf.function has experimental_relax_shapes=True option that relaxes argument shapes that can avoid unnecessary retracing. For (3), please refer to https://www.tensorflow.org/tutorials/customization/performance#python_or_tensor_args and https://www.tensorflow.org/api_docs/python/tf/function for  more details.\n",
      "[{'box': [131, 169, 646, 820], 'confidence': 0.999984860420227, 'keypoints': {'left_eye': (320, 531), 'right_eye': (618, 527), 'nose': (478, 701), 'mouth_left': (358, 824), 'mouth_right': (590, 812)}}]\n",
      "WARNING:tensorflow:5 out of the last 17 calls to <function Model.make_predict_function.<locals>.predict_function at 0x00000294AC852D90> triggered tf.function retracing. Tracing is expensive and the excessive number of tracings could be due to (1) creating @tf.function repeatedly in a loop, (2) passing tensors with different shapes, (3) passing Python objects instead of tensors. For (1), please define your @tf.function outside of the loop. For (2), @tf.function has experimental_relax_shapes=True option that relaxes argument shapes that can avoid unnecessary retracing. For (3), please refer to https://www.tensorflow.org/tutorials/customization/performance#python_or_tensor_args and https://www.tensorflow.org/api_docs/python/tf/function for  more details.\n",
      "WARNING:tensorflow:6 out of the last 18 calls to <function Model.make_predict_function.<locals>.predict_function at 0x00000294AC852D90> triggered tf.function retracing. Tracing is expensive and the excessive number of tracings could be due to (1) creating @tf.function repeatedly in a loop, (2) passing tensors with different shapes, (3) passing Python objects instead of tensors. For (1), please define your @tf.function outside of the loop. For (2), @tf.function has experimental_relax_shapes=True option that relaxes argument shapes that can avoid unnecessary retracing. For (3), please refer to https://www.tensorflow.org/tutorials/customization/performance#python_or_tensor_args and https://www.tensorflow.org/api_docs/python/tf/function for  more details.\n",
      "[{'box': [119, 192, 666, 800], 'confidence': 0.9998632669448853, 'keypoints': {'left_eye': (326, 498), 'right_eye': (585, 508), 'nose': (451, 641), 'mouth_left': (354, 737), 'mouth_right': (582, 745)}}]\n",
      ">loaded 4 examples for class: Darshna_Sadhnani\n",
      "WARNING:tensorflow:5 out of the last 16 calls to <function Model.make_predict_function.<locals>.predict_function at 0x00000294AB5812F0> triggered tf.function retracing. Tracing is expensive and the excessive number of tracings could be due to (1) creating @tf.function repeatedly in a loop, (2) passing tensors with different shapes, (3) passing Python objects instead of tensors. For (1), please define your @tf.function outside of the loop. For (2), @tf.function has experimental_relax_shapes=True option that relaxes argument shapes that can avoid unnecessary retracing. For (3), please refer to https://www.tensorflow.org/tutorials/customization/performance#python_or_tensor_args and https://www.tensorflow.org/api_docs/python/tf/function for  more details.\n",
      "WARNING:tensorflow:6 out of the last 17 calls to <function Model.make_predict_function.<locals>.predict_function at 0x00000294AB5812F0> triggered tf.function retracing. Tracing is expensive and the excessive number of tracings could be due to (1) creating @tf.function repeatedly in a loop, (2) passing tensors with different shapes, (3) passing Python objects instead of tensors. For (1), please define your @tf.function outside of the loop. For (2), @tf.function has experimental_relax_shapes=True option that relaxes argument shapes that can avoid unnecessary retracing. For (3), please refer to https://www.tensorflow.org/tutorials/customization/performance#python_or_tensor_args and https://www.tensorflow.org/api_docs/python/tf/function for  more details.\n",
      "[{'box': [830, 1530, 1089, 1309], 'confidence': 0.9999632835388184, 'keypoints': {'left_eye': (1158, 1975), 'right_eye': (1674, 2003), 'nose': (1369, 2291), 'mouth_left': (1159, 2512), 'mouth_right': (1574, 2557)}}]\n",
      "WARNING:tensorflow:5 out of the last 20 calls to <function Model.make_predict_function.<locals>.predict_function at 0x00000294A98598C8> triggered tf.function retracing. Tracing is expensive and the excessive number of tracings could be due to (1) creating @tf.function repeatedly in a loop, (2) passing tensors with different shapes, (3) passing Python objects instead of tensors. For (1), please define your @tf.function outside of the loop. For (2), @tf.function has experimental_relax_shapes=True option that relaxes argument shapes that can avoid unnecessary retracing. For (3), please refer to https://www.tensorflow.org/tutorials/customization/performance#python_or_tensor_args and https://www.tensorflow.org/api_docs/python/tf/function for  more details.\n",
      "[{'box': [967, 1566, 801, 967], 'confidence': 0.9998996257781982, 'keypoints': {'left_eye': (1219, 1895), 'right_eye': (1608, 1948), 'nose': (1367, 2162), 'mouth_left': (1172, 2318), 'mouth_right': (1478, 2377)}}, {'box': [2798, 2547, 71, 88], 'confidence': 0.9386013746261597, 'keypoints': {'left_eye': (2810, 2574), 'right_eye': (2829, 2576), 'nose': (2808, 2592), 'mouth_left': (2807, 2611), 'mouth_right': (2820, 2612)}}]\n"
     ]
    },
    {
     "name": "stdout",
     "output_type": "stream",
     "text": [
      "WARNING:tensorflow:5 out of the last 35 calls to <function Model.make_predict_function.<locals>.predict_function at 0x00000294A97221E0> triggered tf.function retracing. Tracing is expensive and the excessive number of tracings could be due to (1) creating @tf.function repeatedly in a loop, (2) passing tensors with different shapes, (3) passing Python objects instead of tensors. For (1), please define your @tf.function outside of the loop. For (2), @tf.function has experimental_relax_shapes=True option that relaxes argument shapes that can avoid unnecessary retracing. For (3), please refer to https://www.tensorflow.org/tutorials/customization/performance#python_or_tensor_args and https://www.tensorflow.org/api_docs/python/tf/function for  more details.\n",
      "[{'box': [943, 1610, 774, 972], 'confidence': 0.999523401260376, 'keypoints': {'left_eye': (1180, 1976), 'right_eye': (1566, 2012), 'nose': (1331, 2228), 'mouth_left': (1162, 2378), 'mouth_right': (1465, 2418)}}, {'box': [2760, 2595, 72, 86], 'confidence': 0.9366891980171204, 'keypoints': {'left_eye': (2772, 2625), 'right_eye': (2791, 2623), 'nose': (2769, 2642), 'mouth_left': (2773, 2660), 'mouth_right': (2787, 2658)}}]\n",
      "WARNING:tensorflow:5 out of the last 36 calls to <function Model.make_predict_function.<locals>.predict_function at 0x00000294A96EA378> triggered tf.function retracing. Tracing is expensive and the excessive number of tracings could be due to (1) creating @tf.function repeatedly in a loop, (2) passing tensors with different shapes, (3) passing Python objects instead of tensors. For (1), please define your @tf.function outside of the loop. For (2), @tf.function has experimental_relax_shapes=True option that relaxes argument shapes that can avoid unnecessary retracing. For (3), please refer to https://www.tensorflow.org/tutorials/customization/performance#python_or_tensor_args and https://www.tensorflow.org/api_docs/python/tf/function for  more details.\n",
      "[{'box': [1096, 1693, 754, 887], 'confidence': 0.9998987913131714, 'keypoints': {'left_eye': (1318, 1993), 'right_eye': (1672, 2029), 'nose': (1458, 2223), 'mouth_left': (1285, 2386), 'mouth_right': (1566, 2433)}}, {'box': [2787, 2546, 79, 100], 'confidence': 0.9348545670509338, 'keypoints': {'left_eye': (2796, 2577), 'right_eye': (2816, 2577), 'nose': (2793, 2597), 'mouth_left': (2795, 2618), 'mouth_right': (2810, 2618)}}]\n",
      "WARNING:tensorflow:5 out of the last 26 calls to <function Model.make_predict_function.<locals>.predict_function at 0x00000294A9FA3488> triggered tf.function retracing. Tracing is expensive and the excessive number of tracings could be due to (1) creating @tf.function repeatedly in a loop, (2) passing tensors with different shapes, (3) passing Python objects instead of tensors. For (1), please define your @tf.function outside of the loop. For (2), @tf.function has experimental_relax_shapes=True option that relaxes argument shapes that can avoid unnecessary retracing. For (3), please refer to https://www.tensorflow.org/tutorials/customization/performance#python_or_tensor_args and https://www.tensorflow.org/api_docs/python/tf/function for  more details.\n",
      "[{'box': [1118, 1720, 684, 812], 'confidence': 0.9999442100524902, 'keypoints': {'left_eye': (1338, 2027), 'right_eye': (1664, 2023), 'nose': (1500, 2198), 'mouth_left': (1353, 2334), 'mouth_right': (1621, 2343)}}, {'box': [2805, 2560, 68, 81], 'confidence': 0.9436560869216919, 'keypoints': {'left_eye': (2816, 2588), 'right_eye': (2835, 2585), 'nose': (2814, 2602), 'mouth_left': (2817, 2621), 'mouth_right': (2831, 2619)}}]\n",
      ">loaded 5 examples for class: Minnie_TK\n",
      "WARNING:tensorflow:5 out of the last 31 calls to <function Model.make_predict_function.<locals>.predict_function at 0x00000294A9722598> triggered tf.function retracing. Tracing is expensive and the excessive number of tracings could be due to (1) creating @tf.function repeatedly in a loop, (2) passing tensors with different shapes, (3) passing Python objects instead of tensors. For (1), please define your @tf.function outside of the loop. For (2), @tf.function has experimental_relax_shapes=True option that relaxes argument shapes that can avoid unnecessary retracing. For (3), please refer to https://www.tensorflow.org/tutorials/customization/performance#python_or_tensor_args and https://www.tensorflow.org/api_docs/python/tf/function for  more details.\n",
      "[{'box': [243, 449, 525, 619], 'confidence': 0.9999986886978149, 'keypoints': {'left_eye': (409, 664), 'right_eye': (648, 661), 'nose': (532, 834), 'mouth_left': (424, 926), 'mouth_right': (627, 926)}}]\n",
      "WARNING:tensorflow:5 out of the last 16 calls to <function Model.make_predict_function.<locals>.predict_function at 0x00000294A9859598> triggered tf.function retracing. Tracing is expensive and the excessive number of tracings could be due to (1) creating @tf.function repeatedly in a loop, (2) passing tensors with different shapes, (3) passing Python objects instead of tensors. For (1), please define your @tf.function outside of the loop. For (2), @tf.function has experimental_relax_shapes=True option that relaxes argument shapes that can avoid unnecessary retracing. For (3), please refer to https://www.tensorflow.org/tutorials/customization/performance#python_or_tensor_args and https://www.tensorflow.org/api_docs/python/tf/function for  more details.\n",
      "WARNING:tensorflow:6 out of the last 17 calls to <function Model.make_predict_function.<locals>.predict_function at 0x00000294A9859598> triggered tf.function retracing. Tracing is expensive and the excessive number of tracings could be due to (1) creating @tf.function repeatedly in a loop, (2) passing tensors with different shapes, (3) passing Python objects instead of tensors. For (1), please define your @tf.function outside of the loop. For (2), @tf.function has experimental_relax_shapes=True option that relaxes argument shapes that can avoid unnecessary retracing. For (3), please refer to https://www.tensorflow.org/tutorials/customization/performance#python_or_tensor_args and https://www.tensorflow.org/api_docs/python/tf/function for  more details.\n",
      "[{'box': [233, 291, 662, 789], 'confidence': 0.9997345805168152, 'keypoints': {'left_eye': (403, 574), 'right_eye': (711, 546), 'nose': (545, 766), 'mouth_left': (449, 906), 'mouth_right': (697, 891)}}]\n",
      "WARNING:tensorflow:5 out of the last 16 calls to <function Model.make_predict_function.<locals>.predict_function at 0x00000294AA3AA510> triggered tf.function retracing. Tracing is expensive and the excessive number of tracings could be due to (1) creating @tf.function repeatedly in a loop, (2) passing tensors with different shapes, (3) passing Python objects instead of tensors. For (1), please define your @tf.function outside of the loop. For (2), @tf.function has experimental_relax_shapes=True option that relaxes argument shapes that can avoid unnecessary retracing. For (3), please refer to https://www.tensorflow.org/tutorials/customization/performance#python_or_tensor_args and https://www.tensorflow.org/api_docs/python/tf/function for  more details.\n",
      "WARNING:tensorflow:6 out of the last 17 calls to <function Model.make_predict_function.<locals>.predict_function at 0x00000294AA3AA510> triggered tf.function retracing. Tracing is expensive and the excessive number of tracings could be due to (1) creating @tf.function repeatedly in a loop, (2) passing tensors with different shapes, (3) passing Python objects instead of tensors. For (1), please define your @tf.function outside of the loop. For (2), @tf.function has experimental_relax_shapes=True option that relaxes argument shapes that can avoid unnecessary retracing. For (3), please refer to https://www.tensorflow.org/tutorials/customization/performance#python_or_tensor_args and https://www.tensorflow.org/api_docs/python/tf/function for  more details.\n",
      "[{'box': [276, 333, 648, 754], 'confidence': 0.999915361404419, 'keypoints': {'left_eye': (444, 579), 'right_eye': (750, 589), 'nose': (562, 799), 'mouth_left': (446, 914), 'mouth_right': (698, 928)}}]\n",
      ">loaded 3 examples for class: Sri_Charan\n",
      "WARNING:tensorflow:5 out of the last 16 calls to <function Model.make_predict_function.<locals>.predict_function at 0x00000294AF8B8B70> triggered tf.function retracing. Tracing is expensive and the excessive number of tracings could be due to (1) creating @tf.function repeatedly in a loop, (2) passing tensors with different shapes, (3) passing Python objects instead of tensors. For (1), please define your @tf.function outside of the loop. For (2), @tf.function has experimental_relax_shapes=True option that relaxes argument shapes that can avoid unnecessary retracing. For (3), please refer to https://www.tensorflow.org/tutorials/customization/performance#python_or_tensor_args and https://www.tensorflow.org/api_docs/python/tf/function for  more details.\n"
     ]
    },
    {
     "name": "stdout",
     "output_type": "stream",
     "text": [
      "WARNING:tensorflow:6 out of the last 17 calls to <function Model.make_predict_function.<locals>.predict_function at 0x00000294AF8B8B70> triggered tf.function retracing. Tracing is expensive and the excessive number of tracings could be due to (1) creating @tf.function repeatedly in a loop, (2) passing tensors with different shapes, (3) passing Python objects instead of tensors. For (1), please define your @tf.function outside of the loop. For (2), @tf.function has experimental_relax_shapes=True option that relaxes argument shapes that can avoid unnecessary retracing. For (3), please refer to https://www.tensorflow.org/tutorials/customization/performance#python_or_tensor_args and https://www.tensorflow.org/api_docs/python/tf/function for  more details.\n",
      "[{'box': [113, 193, 614, 780], 'confidence': 0.9999734163284302, 'keypoints': {'left_eye': (299, 541), 'right_eye': (580, 538), 'nose': (449, 717), 'mouth_left': (330, 820), 'mouth_right': (550, 814)}}]\n",
      "WARNING:tensorflow:5 out of the last 16 calls to <function Model.make_predict_function.<locals>.predict_function at 0x00000294AF334D90> triggered tf.function retracing. Tracing is expensive and the excessive number of tracings could be due to (1) creating @tf.function repeatedly in a loop, (2) passing tensors with different shapes, (3) passing Python objects instead of tensors. For (1), please define your @tf.function outside of the loop. For (2), @tf.function has experimental_relax_shapes=True option that relaxes argument shapes that can avoid unnecessary retracing. For (3), please refer to https://www.tensorflow.org/tutorials/customization/performance#python_or_tensor_args and https://www.tensorflow.org/api_docs/python/tf/function for  more details.\n",
      "WARNING:tensorflow:6 out of the last 17 calls to <function Model.make_predict_function.<locals>.predict_function at 0x00000294AF334D90> triggered tf.function retracing. Tracing is expensive and the excessive number of tracings could be due to (1) creating @tf.function repeatedly in a loop, (2) passing tensors with different shapes, (3) passing Python objects instead of tensors. For (1), please define your @tf.function outside of the loop. For (2), @tf.function has experimental_relax_shapes=True option that relaxes argument shapes that can avoid unnecessary retracing. For (3), please refer to https://www.tensorflow.org/tutorials/customization/performance#python_or_tensor_args and https://www.tensorflow.org/api_docs/python/tf/function for  more details.\n",
      "[{'box': [113, 178, 636, 800], 'confidence': 0.9999921321868896, 'keypoints': {'left_eye': (296, 535), 'right_eye': (590, 528), 'nose': (456, 708), 'mouth_left': (337, 829), 'mouth_right': (561, 816)}}]\n",
      ">loaded 2 examples for class: Darshna_Sadhnani\n",
      "WARNING:tensorflow:5 out of the last 16 calls to <function Model.make_predict_function.<locals>.predict_function at 0x00000294AB554400> triggered tf.function retracing. Tracing is expensive and the excessive number of tracings could be due to (1) creating @tf.function repeatedly in a loop, (2) passing tensors with different shapes, (3) passing Python objects instead of tensors. For (1), please define your @tf.function outside of the loop. For (2), @tf.function has experimental_relax_shapes=True option that relaxes argument shapes that can avoid unnecessary retracing. For (3), please refer to https://www.tensorflow.org/tutorials/customization/performance#python_or_tensor_args and https://www.tensorflow.org/api_docs/python/tf/function for  more details.\n",
      "WARNING:tensorflow:6 out of the last 17 calls to <function Model.make_predict_function.<locals>.predict_function at 0x00000294AB554400> triggered tf.function retracing. Tracing is expensive and the excessive number of tracings could be due to (1) creating @tf.function repeatedly in a loop, (2) passing tensors with different shapes, (3) passing Python objects instead of tensors. For (1), please define your @tf.function outside of the loop. For (2), @tf.function has experimental_relax_shapes=True option that relaxes argument shapes that can avoid unnecessary retracing. For (3), please refer to https://www.tensorflow.org/tutorials/customization/performance#python_or_tensor_args and https://www.tensorflow.org/api_docs/python/tf/function for  more details.\n",
      "[{'box': [975, 1596, 787, 965], 'confidence': 0.9998164772987366, 'keypoints': {'left_eye': (1227, 1956), 'right_eye': (1594, 1995), 'nose': (1392, 2183), 'mouth_left': (1212, 2329), 'mouth_right': (1498, 2370)}}, {'box': [2781, 2571, 74, 90], 'confidence': 0.8527374863624573, 'keypoints': {'left_eye': (2795, 2599), 'right_eye': (2814, 2599), 'nose': (2793, 2617), 'mouth_left': (2793, 2635), 'mouth_right': (2806, 2636)}}]\n",
      "WARNING:tensorflow:5 out of the last 34 calls to <function Model.make_predict_function.<locals>.predict_function at 0x00000294A98598C8> triggered tf.function retracing. Tracing is expensive and the excessive number of tracings could be due to (1) creating @tf.function repeatedly in a loop, (2) passing tensors with different shapes, (3) passing Python objects instead of tensors. For (1), please define your @tf.function outside of the loop. For (2), @tf.function has experimental_relax_shapes=True option that relaxes argument shapes that can avoid unnecessary retracing. For (3), please refer to https://www.tensorflow.org/tutorials/customization/performance#python_or_tensor_args and https://www.tensorflow.org/api_docs/python/tf/function for  more details.\n",
      "[{'box': [841, 1644, 856, 1017], 'confidence': 0.9998807907104492, 'keypoints': {'left_eye': (1098, 1965), 'right_eye': (1488, 2015), 'nose': (1236, 2245), 'mouth_left': (1051, 2408), 'mouth_right': (1353, 2471)}}, {'box': [2741, 2593, 65, 82], 'confidence': 0.9384692907333374, 'keypoints': {'left_eye': (2752, 2619), 'right_eye': (2771, 2619), 'nose': (2749, 2635), 'mouth_left': (2751, 2653), 'mouth_right': (2765, 2653)}}]\n",
      ">loaded 2 examples for class: Minnie_TK\n",
      "WARNING:tensorflow:5 out of the last 31 calls to <function Model.make_predict_function.<locals>.predict_function at 0x00000294A97222F0> triggered tf.function retracing. Tracing is expensive and the excessive number of tracings could be due to (1) creating @tf.function repeatedly in a loop, (2) passing tensors with different shapes, (3) passing Python objects instead of tensors. For (1), please define your @tf.function outside of the loop. For (2), @tf.function has experimental_relax_shapes=True option that relaxes argument shapes that can avoid unnecessary retracing. For (3), please refer to https://www.tensorflow.org/tutorials/customization/performance#python_or_tensor_args and https://www.tensorflow.org/api_docs/python/tf/function for  more details.\n",
      "[{'box': [247, 447, 530, 617], 'confidence': 0.9998612403869629, 'keypoints': {'left_eye': (381, 661), 'right_eye': (629, 650), 'nose': (482, 810), 'mouth_left': (406, 926), 'mouth_right': (606, 923)}}]\n",
      "WARNING:tensorflow:5 out of the last 16 calls to <function Model.make_predict_function.<locals>.predict_function at 0x00000294AF334268> triggered tf.function retracing. Tracing is expensive and the excessive number of tracings could be due to (1) creating @tf.function repeatedly in a loop, (2) passing tensors with different shapes, (3) passing Python objects instead of tensors. For (1), please define your @tf.function outside of the loop. For (2), @tf.function has experimental_relax_shapes=True option that relaxes argument shapes that can avoid unnecessary retracing. For (3), please refer to https://www.tensorflow.org/tutorials/customization/performance#python_or_tensor_args and https://www.tensorflow.org/api_docs/python/tf/function for  more details.\n",
      "WARNING:tensorflow:6 out of the last 17 calls to <function Model.make_predict_function.<locals>.predict_function at 0x00000294AF334268> triggered tf.function retracing. Tracing is expensive and the excessive number of tracings could be due to (1) creating @tf.function repeatedly in a loop, (2) passing tensors with different shapes, (3) passing Python objects instead of tensors. For (1), please define your @tf.function outside of the loop. For (2), @tf.function has experimental_relax_shapes=True option that relaxes argument shapes that can avoid unnecessary retracing. For (3), please refer to https://www.tensorflow.org/tutorials/customization/performance#python_or_tensor_args and https://www.tensorflow.org/api_docs/python/tf/function for  more details.\n"
     ]
    },
    {
     "name": "stdout",
     "output_type": "stream",
     "text": [
      "[{'box': [268, 328, 642, 744], 'confidence': 0.9999240636825562, 'keypoints': {'left_eye': (435, 578), 'right_eye': (741, 581), 'nose': (561, 787), 'mouth_left': (450, 903), 'mouth_right': (701, 910)}}]\n",
      ">loaded 2 examples for class: Sri_Charan\n",
      "Loaded:  (12, 160, 160, 3) (12,) (6, 160, 160, 3) (6,)\n",
      "Loaded:  (12, 160, 160, 3) (12,) (6, 160, 160, 3) (6,)\n"
     ]
    }
   ],
   "source": [
    "\n",
    "\n",
    "# load images and extract faces for all images in a directory\n",
    "def load_faces(directory):\n",
    "\tfaces = list()\n",
    "\t# enumerate files\n",
    "\tfor filename in listdir(directory):\n",
    "\t\t# path\n",
    "\t\tpath = directory + filename\n",
    "\t\t# get face\n",
    "\t\tface = extract_face(path)\n",
    "\t\t# store\n",
    "\t\tif face is not None:\n",
    "\t\t\tfaces.append(face)\n",
    "\treturn faces\n",
    " \n",
    "# load a dataset that contains one subdir for each class that in turn contains images\n",
    "def load_dataset(directory):\n",
    "\tX, y = list(), list()\n",
    "\t# enumerate folders, on per class\n",
    "\tfor subdir in listdir(directory):\n",
    "\t\t# path\n",
    "\t\tpath = directory + subdir + '/'\n",
    "\t\t# skip any files that might be in the dir\n",
    "\t\tif not isdir(path):\n",
    "\t\t\tcontinue\n",
    "\t\t# load all faces in the subdirectory\n",
    "\t\tfaces = load_faces(path)\n",
    "\t\t# create labels\n",
    "\t\tlabels = [subdir for _ in range(len(faces))]\n",
    "\t\t# summarize progress\n",
    "\t\tprint('>loaded %d examples for class: %s' % (len(faces), subdir))\n",
    "\t\t# store\n",
    "\t\tX.extend(faces)\n",
    "\t\ty.extend(labels)\n",
    "\treturn asarray(X), asarray(y)\n",
    " \n",
    "def load_save_dataset():\n",
    "\n",
    "  # load MASKED train dataset\n",
    "    trainX, trainy = load_dataset('C:/Users/Tanya/Desktop/FYP/FYP - Full Stack/New User/train_masked/')\n",
    "  # print(trainX.shape, trainy.shape)\n",
    "  # load test dataset\n",
    "    testX, testy = load_dataset('C:/Users/Tanya/Desktop/FYP/FYP - Full Stack/New User/val_masked/')\n",
    "  # save arrays to one file in compressed format\n",
    "  # print(trainX,trainy)\n",
    "    print('Loaded: ', trainX.shape, trainy.shape, testX.shape, testy.shape)\n",
    "    savez_compressed('C:/Users/Tanya/Desktop/FYP/FYP - Full Stack/new_user_masked.npz', trainX, trainy, testX, testy)\n",
    "\n",
    "    data = np.load('C:/Users/Tanya/Desktop/FYP/FYP - Full Stack/new_user_masked.npz')\n",
    "\n",
    "    trainX, trainy, testX, testy = data['arr_0'], data['arr_1'], data['arr_2'], data['arr_3']\n",
    "    print('Loaded: ', trainX.shape, trainy.shape, testX.shape, testy.shape)\n",
    "\n",
    "load_save_dataset()\n"
   ]
  },
  {
   "cell_type": "code",
   "execution_count": null,
   "metadata": {
    "id": "m0z07dZbKA0L"
   },
   "outputs": [],
   "source": []
  }
 ],
 "metadata": {
  "colab": {
   "collapsed_sections": [],
   "name": "NewUserPreprocessing.ipynb",
   "provenance": []
  },
  "kernelspec": {
   "display_name": "Python 3",
   "language": "python",
   "name": "python3"
  },
  "language_info": {
   "codemirror_mode": {
    "name": "ipython",
    "version": 3
   },
   "file_extension": ".py",
   "mimetype": "text/x-python",
   "name": "python",
   "nbconvert_exporter": "python",
   "pygments_lexer": "ipython3",
   "version": "3.6.10"
  }
 },
 "nbformat": 4,
 "nbformat_minor": 1
}
